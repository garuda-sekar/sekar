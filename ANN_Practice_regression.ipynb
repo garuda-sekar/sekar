{
  "nbformat": 4,
  "nbformat_minor": 0,
  "metadata": {
    "colab": {
      "provenance": [],
      "toc_visible": true,
      "authorship_tag": "ABX9TyMkoCrBynaeDfATmj3xIB6y",
      "include_colab_link": true
    },
    "kernelspec": {
      "name": "python3",
      "display_name": "Python 3"
    },
    "language_info": {
      "name": "python"
    }
  },
  "cells": [
    {
      "cell_type": "markdown",
      "metadata": {
        "id": "view-in-github",
        "colab_type": "text"
      },
      "source": [
        "<a href=\"https://colab.research.google.com/github/garuda-sekar/sekar/blob/master/ANN_Practice_regression.ipynb\" target=\"_parent\"><img src=\"https://colab.research.google.com/assets/colab-badge.svg\" alt=\"Open In Colab\"/></a>"
      ]
    },
    {
      "cell_type": "markdown",
      "source": [
        "# Part 1 - Data Processing"
      ],
      "metadata": {
        "id": "U6zjJja85hW6"
      }
    },
    {
      "cell_type": "code",
      "source": [
        "import numpy as np\n",
        "import pandas as pd\n",
        "import tensorflow as tf"
      ],
      "metadata": {
        "id": "sMACHWpu5wSG"
      },
      "execution_count": 5,
      "outputs": []
    },
    {
      "cell_type": "code",
      "source": [
        "tf.__version__"
      ],
      "metadata": {
        "colab": {
          "base_uri": "https://localhost:8080/",
          "height": 35
        },
        "id": "Ls348OHsQiNg",
        "outputId": "be9119ee-6eb1-429b-9253-58ac22c2246c"
      },
      "execution_count": 6,
      "outputs": [
        {
          "output_type": "execute_result",
          "data": {
            "text/plain": [
              "'2.15.0'"
            ],
            "application/vnd.google.colaboratory.intrinsic+json": {
              "type": "string"
            }
          },
          "metadata": {},
          "execution_count": 6
        }
      ]
    },
    {
      "cell_type": "markdown",
      "source": [
        "# Importing the data set"
      ],
      "metadata": {
        "id": "pdNCH52BQ3tt"
      }
    },
    {
      "cell_type": "code",
      "source": [],
      "metadata": {
        "id": "KIOkQHdFrPxK"
      },
      "execution_count": null,
      "outputs": []
    },
    {
      "cell_type": "code",
      "source": [
        "dataset = pd.read_excel('Folds5x2_pp.xlsx')"
      ],
      "metadata": {
        "id": "t7WLD-7HRAUy"
      },
      "execution_count": 7,
      "outputs": []
    },
    {
      "cell_type": "code",
      "source": [
        "x = dataset.iloc[:,:-1].values\n",
        "y = dataset.iloc[:,-1].values"
      ],
      "metadata": {
        "id": "xXJu0GrpSAAZ"
      },
      "execution_count": 8,
      "outputs": []
    },
    {
      "cell_type": "code",
      "source": [
        "from sklearn.model_selection import train_test_split\n",
        "x_train, x_test, y_train, ytest = train_test_split(x,y, test_size = 0.2, random_state=0)"
      ],
      "metadata": {
        "id": "gX4nOsdaTGfy"
      },
      "execution_count": 9,
      "outputs": []
    },
    {
      "cell_type": "markdown",
      "source": [
        "# Build ANN\n"
      ],
      "metadata": {
        "id": "k_unSmOmVnIO"
      }
    },
    {
      "cell_type": "markdown",
      "source": [
        "initializing the ANN"
      ],
      "metadata": {
        "id": "oMErUffwWBgs"
      }
    },
    {
      "cell_type": "code",
      "source": [
        "ann = tf.keras.models.Sequential()"
      ],
      "metadata": {
        "id": "SE34dhI4WF9c"
      },
      "execution_count": 10,
      "outputs": []
    },
    {
      "cell_type": "markdown",
      "source": [
        "Adding input layer and the first hidden layer"
      ],
      "metadata": {
        "id": "AqOUg6forqaa"
      }
    },
    {
      "cell_type": "code",
      "source": [
        "ann.add(tf.keras.layers.Dense(units=6, activation='relu'))"
      ],
      "metadata": {
        "id": "crSRx23yruqt"
      },
      "execution_count": 11,
      "outputs": []
    },
    {
      "cell_type": "markdown",
      "source": [
        "Adding second hidden layer"
      ],
      "metadata": {
        "id": "FTBtff8Yty1t"
      }
    },
    {
      "cell_type": "code",
      "source": [
        "ann.add(tf.keras.layers.Dense(units=6, activation='relu'))"
      ],
      "metadata": {
        "id": "KVRQ5hg9tiYG"
      },
      "execution_count": 12,
      "outputs": []
    },
    {
      "cell_type": "markdown",
      "source": [
        "Adding output layer"
      ],
      "metadata": {
        "id": "XqVAClcJt4vt"
      }
    },
    {
      "cell_type": "code",
      "source": [
        "ann.add(tf.keras.layers.Dense(units=1))"
      ],
      "metadata": {
        "id": "p0mUVj5ft63s"
      },
      "execution_count": 13,
      "outputs": []
    },
    {
      "cell_type": "markdown",
      "source": [
        "# Training the ANN"
      ],
      "metadata": {
        "id": "rRgRxe9TuRj8"
      }
    },
    {
      "cell_type": "markdown",
      "source": [
        "Compiling the ANN"
      ],
      "metadata": {
        "id": "qD_Re-o6udRf"
      }
    },
    {
      "cell_type": "code",
      "source": [
        "ann.compile(optimizer='adam', loss = 'mean_squared_error')"
      ],
      "metadata": {
        "id": "2Hv6aP6txII-"
      },
      "execution_count": 15,
      "outputs": []
    },
    {
      "cell_type": "markdown",
      "source": [
        "Training the ANN on the training set"
      ],
      "metadata": {
        "id": "xFO68Xt7uhPU"
      }
    },
    {
      "cell_type": "code",
      "source": [
        "ann.fit(x_train,y_train,batch_size = 32,  epochs = 100)"
      ],
      "metadata": {
        "colab": {
          "base_uri": "https://localhost:8080/"
        },
        "id": "R0xqq29uxuD7",
        "outputId": "3a5b0cbf-2354-4cc9-a31a-c310ffdcbcd4"
      },
      "execution_count": 16,
      "outputs": [
        {
          "output_type": "stream",
          "name": "stdout",
          "text": [
            "Epoch 1/100\n",
            "240/240 [==============================] - 1s 2ms/step - loss: 170160.0469\n",
            "Epoch 2/100\n",
            "240/240 [==============================] - 0s 2ms/step - loss: 2832.5249\n",
            "Epoch 3/100\n",
            "240/240 [==============================] - 0s 2ms/step - loss: 341.8601\n",
            "Epoch 4/100\n",
            "240/240 [==============================] - 0s 2ms/step - loss: 329.9338\n",
            "Epoch 5/100\n",
            "240/240 [==============================] - 0s 2ms/step - loss: 315.8152\n",
            "Epoch 6/100\n",
            "240/240 [==============================] - 0s 2ms/step - loss: 300.1114\n",
            "Epoch 7/100\n",
            "240/240 [==============================] - 0s 2ms/step - loss: 282.4424\n",
            "Epoch 8/100\n",
            "240/240 [==============================] - 1s 3ms/step - loss: 264.2478\n",
            "Epoch 9/100\n",
            "240/240 [==============================] - 1s 3ms/step - loss: 244.4608\n",
            "Epoch 10/100\n",
            "240/240 [==============================] - 1s 3ms/step - loss: 224.7827\n",
            "Epoch 11/100\n",
            "240/240 [==============================] - 1s 3ms/step - loss: 204.5304\n",
            "Epoch 12/100\n",
            "240/240 [==============================] - 1s 2ms/step - loss: 183.9924\n",
            "Epoch 13/100\n",
            "240/240 [==============================] - 1s 2ms/step - loss: 164.0994\n",
            "Epoch 14/100\n",
            "240/240 [==============================] - 0s 2ms/step - loss: 145.6286\n",
            "Epoch 15/100\n",
            "240/240 [==============================] - 0s 2ms/step - loss: 127.4814\n",
            "Epoch 16/100\n",
            "240/240 [==============================] - 0s 2ms/step - loss: 111.1860\n",
            "Epoch 17/100\n",
            "240/240 [==============================] - 0s 2ms/step - loss: 96.0199\n",
            "Epoch 18/100\n",
            "240/240 [==============================] - 0s 2ms/step - loss: 82.5637\n",
            "Epoch 19/100\n",
            "240/240 [==============================] - 0s 2ms/step - loss: 71.2799\n",
            "Epoch 20/100\n",
            "240/240 [==============================] - 0s 2ms/step - loss: 61.9705\n",
            "Epoch 21/100\n",
            "240/240 [==============================] - 0s 2ms/step - loss: 54.2646\n",
            "Epoch 22/100\n",
            "240/240 [==============================] - 0s 2ms/step - loss: 48.4670\n",
            "Epoch 23/100\n",
            "240/240 [==============================] - 0s 2ms/step - loss: 43.5270\n",
            "Epoch 24/100\n",
            "240/240 [==============================] - 0s 2ms/step - loss: 39.7989\n",
            "Epoch 25/100\n",
            "240/240 [==============================] - 0s 2ms/step - loss: 36.8158\n",
            "Epoch 26/100\n",
            "240/240 [==============================] - 0s 2ms/step - loss: 34.9034\n",
            "Epoch 27/100\n",
            "240/240 [==============================] - 0s 2ms/step - loss: 33.5461\n",
            "Epoch 28/100\n",
            "240/240 [==============================] - 0s 2ms/step - loss: 32.1305\n",
            "Epoch 29/100\n",
            "240/240 [==============================] - 0s 2ms/step - loss: 31.0600\n",
            "Epoch 30/100\n",
            "240/240 [==============================] - 0s 2ms/step - loss: 30.3351\n",
            "Epoch 31/100\n",
            "240/240 [==============================] - 0s 2ms/step - loss: 29.9159\n",
            "Epoch 32/100\n",
            "240/240 [==============================] - 0s 2ms/step - loss: 29.9169\n",
            "Epoch 33/100\n",
            "240/240 [==============================] - 0s 2ms/step - loss: 29.4889\n",
            "Epoch 34/100\n",
            "240/240 [==============================] - 0s 2ms/step - loss: 28.8601\n",
            "Epoch 35/100\n",
            "240/240 [==============================] - 0s 2ms/step - loss: 28.7595\n",
            "Epoch 36/100\n",
            "240/240 [==============================] - 0s 2ms/step - loss: 28.4855\n",
            "Epoch 37/100\n",
            "240/240 [==============================] - 0s 2ms/step - loss: 28.3695\n",
            "Epoch 38/100\n",
            "240/240 [==============================] - 1s 3ms/step - loss: 28.3760\n",
            "Epoch 39/100\n",
            "240/240 [==============================] - 1s 3ms/step - loss: 28.1745\n",
            "Epoch 40/100\n",
            "240/240 [==============================] - 1s 3ms/step - loss: 27.8806\n",
            "Epoch 41/100\n",
            "240/240 [==============================] - 0s 2ms/step - loss: 27.9476\n",
            "Epoch 42/100\n",
            "240/240 [==============================] - 0s 2ms/step - loss: 27.7326\n",
            "Epoch 43/100\n",
            "240/240 [==============================] - 0s 2ms/step - loss: 27.8140\n",
            "Epoch 44/100\n",
            "240/240 [==============================] - 0s 2ms/step - loss: 28.4013\n",
            "Epoch 45/100\n",
            "240/240 [==============================] - 0s 2ms/step - loss: 27.5163\n",
            "Epoch 46/100\n",
            "240/240 [==============================] - 0s 2ms/step - loss: 27.3155\n",
            "Epoch 47/100\n",
            "240/240 [==============================] - 0s 2ms/step - loss: 27.2799\n",
            "Epoch 48/100\n",
            "240/240 [==============================] - 0s 2ms/step - loss: 27.5789\n",
            "Epoch 49/100\n",
            "240/240 [==============================] - 0s 2ms/step - loss: 27.7949\n",
            "Epoch 50/100\n",
            "240/240 [==============================] - 0s 2ms/step - loss: 26.9936\n",
            "Epoch 51/100\n",
            "240/240 [==============================] - 0s 2ms/step - loss: 27.0235\n",
            "Epoch 52/100\n",
            "240/240 [==============================] - 0s 2ms/step - loss: 26.9418\n",
            "Epoch 53/100\n",
            "240/240 [==============================] - 0s 2ms/step - loss: 27.0360\n",
            "Epoch 54/100\n",
            "240/240 [==============================] - 0s 2ms/step - loss: 26.7348\n",
            "Epoch 55/100\n",
            "240/240 [==============================] - 0s 2ms/step - loss: 26.6924\n",
            "Epoch 56/100\n",
            "240/240 [==============================] - 0s 2ms/step - loss: 27.0116\n",
            "Epoch 57/100\n",
            "240/240 [==============================] - 0s 2ms/step - loss: 26.5661\n",
            "Epoch 58/100\n",
            "240/240 [==============================] - 0s 2ms/step - loss: 27.7376\n",
            "Epoch 59/100\n",
            "240/240 [==============================] - 0s 2ms/step - loss: 26.6434\n",
            "Epoch 60/100\n",
            "240/240 [==============================] - 0s 2ms/step - loss: 26.7276\n",
            "Epoch 61/100\n",
            "240/240 [==============================] - 0s 2ms/step - loss: 27.2289\n",
            "Epoch 62/100\n",
            "240/240 [==============================] - 0s 2ms/step - loss: 27.1590\n",
            "Epoch 63/100\n",
            "240/240 [==============================] - 0s 2ms/step - loss: 26.7056\n",
            "Epoch 64/100\n",
            "240/240 [==============================] - 0s 2ms/step - loss: 26.3250\n",
            "Epoch 65/100\n",
            "240/240 [==============================] - 1s 2ms/step - loss: 26.8891\n",
            "Epoch 66/100\n",
            "240/240 [==============================] - 1s 3ms/step - loss: 26.8051\n",
            "Epoch 67/100\n",
            "240/240 [==============================] - 1s 2ms/step - loss: 27.7190\n",
            "Epoch 68/100\n",
            "240/240 [==============================] - 1s 3ms/step - loss: 26.7661\n",
            "Epoch 69/100\n",
            "240/240 [==============================] - 1s 3ms/step - loss: 26.8867\n",
            "Epoch 70/100\n",
            "240/240 [==============================] - 1s 3ms/step - loss: 27.2159\n",
            "Epoch 71/100\n",
            "240/240 [==============================] - 0s 2ms/step - loss: 26.4911\n",
            "Epoch 72/100\n",
            "240/240 [==============================] - 0s 2ms/step - loss: 27.0796\n",
            "Epoch 73/100\n",
            "240/240 [==============================] - 0s 2ms/step - loss: 27.0881\n",
            "Epoch 74/100\n",
            "240/240 [==============================] - 0s 2ms/step - loss: 26.8334\n",
            "Epoch 75/100\n",
            "240/240 [==============================] - 0s 2ms/step - loss: 27.4708\n",
            "Epoch 76/100\n",
            "240/240 [==============================] - 0s 2ms/step - loss: 26.9668\n",
            "Epoch 77/100\n",
            "240/240 [==============================] - 0s 2ms/step - loss: 26.6585\n",
            "Epoch 78/100\n",
            "240/240 [==============================] - 0s 2ms/step - loss: 26.9876\n",
            "Epoch 79/100\n",
            "240/240 [==============================] - 0s 2ms/step - loss: 27.1564\n",
            "Epoch 80/100\n",
            "240/240 [==============================] - 0s 2ms/step - loss: 26.3981\n",
            "Epoch 81/100\n",
            "240/240 [==============================] - 0s 2ms/step - loss: 26.7266\n",
            "Epoch 82/100\n",
            "240/240 [==============================] - 0s 2ms/step - loss: 26.8812\n",
            "Epoch 83/100\n",
            "240/240 [==============================] - 0s 2ms/step - loss: 27.3011\n",
            "Epoch 84/100\n",
            "240/240 [==============================] - 0s 2ms/step - loss: 26.9385\n",
            "Epoch 85/100\n",
            "240/240 [==============================] - 0s 2ms/step - loss: 26.5724\n",
            "Epoch 86/100\n",
            "240/240 [==============================] - 0s 2ms/step - loss: 26.3319\n",
            "Epoch 87/100\n",
            "240/240 [==============================] - 0s 2ms/step - loss: 27.3577\n",
            "Epoch 88/100\n",
            "240/240 [==============================] - 0s 2ms/step - loss: 26.9435\n",
            "Epoch 89/100\n",
            "240/240 [==============================] - 0s 2ms/step - loss: 26.6211\n",
            "Epoch 90/100\n",
            "240/240 [==============================] - 0s 2ms/step - loss: 27.2158\n",
            "Epoch 91/100\n",
            "240/240 [==============================] - 0s 2ms/step - loss: 26.5961\n",
            "Epoch 92/100\n",
            "240/240 [==============================] - 0s 2ms/step - loss: 26.5596\n",
            "Epoch 93/100\n",
            "240/240 [==============================] - 0s 2ms/step - loss: 26.5911\n",
            "Epoch 94/100\n",
            "240/240 [==============================] - 0s 2ms/step - loss: 26.9915\n",
            "Epoch 95/100\n",
            "240/240 [==============================] - 0s 2ms/step - loss: 26.2578\n",
            "Epoch 96/100\n",
            "240/240 [==============================] - 1s 3ms/step - loss: 27.0884\n",
            "Epoch 97/100\n",
            "240/240 [==============================] - 1s 3ms/step - loss: 27.0954\n",
            "Epoch 98/100\n",
            "240/240 [==============================] - 1s 3ms/step - loss: 26.6714\n",
            "Epoch 99/100\n",
            "240/240 [==============================] - 1s 2ms/step - loss: 26.9710\n",
            "Epoch 100/100\n",
            "240/240 [==============================] - 1s 3ms/step - loss: 26.8792\n"
          ]
        },
        {
          "output_type": "execute_result",
          "data": {
            "text/plain": [
              "<keras.src.callbacks.History at 0x7d112c0e0e50>"
            ]
          },
          "metadata": {},
          "execution_count": 16
        }
      ]
    },
    {
      "cell_type": "markdown",
      "source": [
        "predicting the ANN on the testing set"
      ],
      "metadata": {
        "id": "xD3i1__HulrB"
      }
    },
    {
      "cell_type": "code",
      "source": [
        "y_pred = ann.predict(x_test)\n",
        "np.set_printoptions(precision=2)\n",
        "print(np.concatenate((y_pred.reshape(len(y_pred),1), ytest.reshape(len(ytest),1)),1))"
      ],
      "metadata": {
        "colab": {
          "base_uri": "https://localhost:8080/"
        },
        "id": "sf3jD_m6y3aP",
        "outputId": "4aad62c4-7ca1-4a8a-a10a-a72fd1a0e979"
      },
      "execution_count": 18,
      "outputs": [
        {
          "output_type": "stream",
          "name": "stdout",
          "text": [
            "60/60 [==============================] - 0s 2ms/step\n",
            "[[432.39 431.23]\n",
            " [463.51 460.01]\n",
            " [467.03 461.14]\n",
            " ...\n",
            " [474.26 473.26]\n",
            " [440.98 438.  ]\n",
            " [460.23 463.28]]\n"
          ]
        }
      ]
    }
  ]
}